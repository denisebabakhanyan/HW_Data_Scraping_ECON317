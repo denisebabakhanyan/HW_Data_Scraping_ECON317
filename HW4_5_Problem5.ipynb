{
  "nbformat": 4,
  "nbformat_minor": 0,
  "metadata": {
    "colab": {
      "name": "HW4_5_Problem5.ipynb",
      "provenance": [],
      "collapsed_sections": []
    },
    "kernelspec": {
      "name": "python3",
      "display_name": "Python 3"
    }
  },
  "cells": [
    {
      "cell_type": "code",
      "metadata": {
        "id": "IwMKujLbZ7Q0",
        "colab_type": "code",
        "colab": {}
      },
      "source": [
        "#!pip install scrapy"
      ],
      "execution_count": null,
      "outputs": []
    },
    {
      "cell_type": "code",
      "metadata": {
        "id": "xi6dwlkyYiS3",
        "colab_type": "code",
        "colab": {}
      },
      "source": [
        "# Importing all of the necessary packages.\n",
        "import requests\n",
        "import time\n",
        "import pandas as pd\n",
        "import numpy as np\n",
        "import scrapy\n",
        "import logging\n",
        "from scrapy.http import TextResponse\n",
        "from scrapy.crawler import CrawlerProcess\n",
        "import re\n",
        "import os"
      ],
      "execution_count": null,
      "outputs": []
    },
    {
      "cell_type": "code",
      "metadata": {
        "id": "4-vbyq1tc0Ud",
        "colab_type": "code",
        "colab": {}
      },
      "source": [
        "base_url = \"https://www.menu.am\""
      ],
      "execution_count": null,
      "outputs": []
    },
    {
      "cell_type": "code",
      "metadata": {
        "id": "8zQ-FkW8ZMOk",
        "colab_type": "code",
        "colab": {}
      },
      "source": [
        "# Scraping the required features using the full scrapy framework. \n",
        "# Storing the scraped information in a csv file. \n",
        "class MenuAmScraper(scrapy.Spider):\n",
        "    name = \"menu_am\"\n",
        "    start_urls = [\"https://www.menu.am/?status=all&sort=default\"]\n",
        "    \n",
        "    custom_settings = {\n",
        "        \"LOG_LEVEL\": logging.WARNING,\n",
        "        \"FEED_FORMAT\": \"csv\",\n",
        "        \"FEED_URI\": \"Menu_am.csv\"\n",
        "    }\n",
        "    \n",
        "    def parse(self, response):\n",
        "        names = []\n",
        "        opening_hrs = []\n",
        "        ratings_partial = []\n",
        "        ratings = []\n",
        "        categories = []\n",
        "        hyperlinks = []\n",
        "\n",
        "        names = response.css(\"div.fl.list-title>a.title::text\").extract()\n",
        "        opening_hrs = response.css(\"div.new_list_time_block>span.new_list_time_block_inner::text\").extract()\n",
        "        rating_blocks = response.xpath(\"//div[contains(@class, 'item ')]\")\n",
        "        categories = response.css(\"span.restType::text\").extract()\n",
        "        restaurant_url = response.css(\"div.fl.list-title>a::attr(href)\").extract()\n",
        "        hyperlinks = [base_url + i for i in restaurant_url]\n",
        "  \n",
        "\n",
        "        for a in rating_blocks:\n",
        "            ratings_partial.append(a.xpath('div[@class=\"new_favorites_and_rates_block\"]//text()').extract())\n",
        "        for b in ratings_partial:\n",
        "            if(b == []):\n",
        "                ratings.append(0)\n",
        "                continue\n",
        "            ratings.append(b[0].strip())\n",
        "        for names_csv, opening_hrs_csv, ratings_csv, categories_csv, hyperlinks_csv in zip(names, opening_hrs, ratings, categories, hyperlinks):\n",
        "            yield {'Names': names_csv, 'Opening_Hours': opening_hrs_csv, 'Ratings': ratings_csv, 'Categories': categories_csv, 'Hyperlinks': hyperlinks_csv}\n",
        "\n",
        "\n",
        "if(os.path.isfile('Menu_am.csv') == False):\n",
        "    process = CrawlerProcess()\n",
        "    process.crawl(MenuAmScraper)\n",
        "    process.start()\n"
      ],
      "execution_count": null,
      "outputs": []
    },
    {
      "cell_type": "code",
      "metadata": {
        "id": "awFgg6Gzgsbc",
        "colab_type": "code",
        "colab": {}
      },
      "source": [
        "# Creating a DataFrame using our previously created csv file\n",
        "# in order to answer the following questions.\n",
        "df = pd.read_csv('Menu_am.csv')"
      ],
      "execution_count": null,
      "outputs": []
    },
    {
      "cell_type": "code",
      "metadata": {
        "id": "-ttrLJP2dq3a",
        "colab_type": "code",
        "colab": {
          "base_uri": "https://localhost:8080/",
          "height": 136
        },
        "outputId": "f0f50ed0-0327-45d4-81ec-a0e5fb71ad79"
      },
      "source": [
        "# Question 1. Grouping Ratings by Categories, calculating the mean, and using\n",
        "# sort_values() function in order to see on average which Categories have the \n",
        "# highest rating. Below you can find 5 categories. \n",
        "df['Ratings'].groupby(df['Categories']).mean().sort_values(ascending = False).head(5)"
      ],
      "execution_count": null,
      "outputs": [
        {
          "output_type": "execute_result",
          "data": {
            "text/plain": [
              "Categories\n",
              "Արաբական                                  5.0\n",
              "Սուրճ և Թեյ, Ֆրանսիական                   5.0\n",
              "Լավ առաջարկ                               5.0\n",
              "Գեղեցկություն և առողջություն, Մանկական    5.0\n",
              "Ծաղիկներ և Փուչիկներ, Քաղցրավենիք         5.0\n",
              "Name: Ratings, dtype: float64"
            ]
          },
          "metadata": {
            "tags": []
          },
          "execution_count": 51
        }
      ]
    },
    {
      "cell_type": "code",
      "metadata": {
        "id": "mopIXsa5gBcM",
        "colab_type": "code",
        "colab": {
          "base_uri": "https://localhost:8080/",
          "height": 935
        },
        "outputId": "dcd16f11-fbae-4e25-ea0b-916d0f3186c4"
      },
      "source": [
        "# Question 2. Creating 2 lists. In the 1st list we're storing our data from Opening_Hours \n",
        "# column. The 2nd one is empty, where we'll store our time equal to 7pm or sooner. \n",
        "# With the help of for loop we're trying to find our needed time and append it to\n",
        "# our empty list. Last but not least, in order to see the results we can use the .loc for accessing \n",
        "# group of values using labels, and .isin for an equivalent method on series. \n",
        "time = df['Opening_Hours']\n",
        "seven_or_sooner = []\n",
        "for i in time:\n",
        "    if(i[8:10] != ''):\n",
        "        if(int(i[8:10])<=19 and int(i[8:10])>12):\n",
        "            seven_or_sooner.append(i)\n",
        "df['Names'].loc[df['Opening_Hours'].isin(seven_or_sooner)]"
      ],
      "execution_count": null,
      "outputs": [
        {
          "output_type": "execute_result",
          "data": {
            "text/plain": [
              "12                                Լեդի Ջի Քեյք \n",
              "16                                    Էլեն Քեյք\n",
              "23                          Տաք Կճուճ Ֆուդ Կորտ\n",
              "24                                 ՍԻՍ Նատուրալ\n",
              "29                       Ղարաբաղի Ժենգյալով Հաց\n",
              "31                                    Թեյք Ուեյ\n",
              "33                                  Ռեդի Լանչիս\n",
              "34                                      Պատառիկ\n",
              "38                                 Խմորի Աշխարհ\n",
              "45                      Գևորգյան Գինու Գործարան\n",
              "47                            Անտարես Գրախանութ\n",
              "54                               Ֆուրշետ Բուֆետ\n",
              "56                                         Չոկո\n",
              "60                                       Բոնիտո\n",
              "62                                  Ապարան Ջուր\n",
              "95                                     Գրին Դեյ\n",
              "99                                       ԲիԷլլա\n",
              "110                                  Փարթի Թայմ\n",
              "112                                    Արտ Լանչ\n",
              "123                                  Դան Դեսերտ\n",
              "128                                Բագետ էնդ Կո\n",
              "129                                     Ֆլորեքս\n",
              "133                                          ՎՍ\n",
              "154                                     Բրաբիոն\n",
              "155                                Պեչկա Սլոյկա\n",
              "160                                   Լայֆ Ֆուդ\n",
              "165                                    Մայ Լանչ\n",
              "173                                   Էվն Գիֆթս\n",
              "178                                     Բայազետ\n",
              "189                                 Լակի Դեսերտ\n",
              "196                                     Լահմաջո\n",
              "204                                       Ռոսսի\n",
              "232                                      Տուշպա\n",
              "235                        Վերնիանո 1882 Խանութ\n",
              "247                     Բնատուր Խնամքի Միջոցներ\n",
              "283                 Healthy Box by Առողջ Սնունդ\n",
              "284                                  Դոս Ամիգոս\n",
              "293                                       ՀՈՈՒԼ\n",
              "297                               Մարտինի Ռոյալ\n",
              "304                             Մասուր Ռեստորան\n",
              "309     Ակցենտ ծորակների և ցնցուղների ցուցասրահ\n",
              "319                                       Հարվի\n",
              "325                             Լյուքսուս Հաուս\n",
              "333                                  Ֆիկա Սուրճ\n",
              "339                              Զանգակ Գրատուն\n",
              "354                     Գարուն բայ Առողջ Սնունդ\n",
              "356    Փարաքարի շաուրմա և Թուրինգյան բրաթվուրստ\n",
              "358                              Կասա դե Էսպանա\n",
              "362                  Սերգեյ Զվերևի Բյութի Սալոն\n",
              "374                       Ֆեմիլի Հաուս Ռեստորան\n",
              "376                                       Թոշկա\n",
              "403                                  Ալիսա Քեյք\n",
              "407                              Մաթևոսյան Վայն\n",
              "Name: Names, dtype: object"
            ]
          },
          "metadata": {
            "tags": []
          },
          "execution_count": 53
        }
      ]
    }
  ]
}
