{
  "nbformat": 4,
  "nbformat_minor": 0,
  "metadata": {
    "colab": {
      "name": "HW4_5_Problem3.ipynb",
      "provenance": []
    },
    "kernelspec": {
      "name": "python3",
      "display_name": "Python 3"
    }
  },
  "cells": [
    {
      "cell_type": "code",
      "metadata": {
        "id": "wnK-yvvbtB66",
        "colab_type": "code",
        "colab": {}
      },
      "source": [
        "#!pip install dbnomics"
      ],
      "execution_count": null,
      "outputs": []
    },
    {
      "cell_type": "code",
      "metadata": {
        "id": "fCWSL7tXr6dt",
        "colab_type": "code",
        "colab": {}
      },
      "source": [
        "# Importing all of the necessary packages. \n",
        "from dbnomics import fetch_series\n",
        "import requests\n",
        "import csv\n",
        "import pandas as pd\n",
        "import os\n",
        "import matplotlib.pyplot as plt"
      ],
      "execution_count": 7,
      "outputs": []
    },
    {
      "cell_type": "code",
      "metadata": {
        "id": "ITKP5LgjwB5c",
        "colab_type": "code",
        "colab": {}
      },
      "source": [
        "# Importing a csv file with all country codes and creating a for loop \n",
        "# in order to add the codes to IMF/DOT/A.AM.TMG_CIF_USD.W00 instead of \"W00\".\n",
        "# Storing the already gathered data in new csv file named dbnomics_data for answering \n",
        "# required questions. \n",
        "codes = pd.read_csv(\"codes.csv\")\n",
        "with open('codes.csv', newline='') as f:\n",
        "    reader = csv.reader(f)\n",
        "    list1 = list(reader)\n",
        "\n",
        "list2 = []\n",
        "codes = []\n",
        "\n",
        "for sublist in list1:\n",
        "    for item in sublist:\n",
        "        list2.append(item)\n",
        "\n",
        "for i in list2:\n",
        "    codes.append(\"IMF/DOT/A.AM.TMG_CIF_USD.\" + str(i))\n",
        "\n",
        "\n",
        "dt = pd.DataFrame()\n",
        "df = pd.DataFrame()\n",
        "\n",
        "\n",
        "if(os.path.isfile('dbnomics_data.csv') == False):\n",
        "    for i in codes:\n",
        "        dt = fetch_series(str(i))\n",
        "        df = df.append(dt)\n",
        "        dt.iloc[0:0]\n",
        "        df.to_csv(\"dbnomics_data.csv\")\n",
        "\n",
        "if(os.path.isfile('dbnomics_data.csv') == True):\n",
        "    data_new = pd.read_csv(\"dbnomics_data.csv\")"
      ],
      "execution_count": 14,
      "outputs": []
    },
    {
      "cell_type": "code",
      "metadata": {
        "id": "nfjgDnkcAHF8",
        "colab_type": "code",
        "colab": {}
      },
      "source": [
        "# Sorting the already acquired data and grouping by Counterpart Reference Area. \n",
        "dbnomics_data = data_new[[\"original_value\",\"original_period\",\"Counterpart Reference Area\"]]\n",
        "data_raw = dbnomics_data.groupby(['original_period']).sum()\n",
        "filtered_data = data_raw.sort_values(by=\"original_value\", ascending = False)\n",
        "country_raw = dbnomics_data.groupby(['Counterpart Reference Area']).sum()\n",
        "filtered_country = country_raw.sort_values(by='original_value',ascending = False)"
      ],
      "execution_count": 15,
      "outputs": []
    },
    {
      "cell_type": "code",
      "metadata": {
        "id": "lupOBXIh-LYN",
        "colab_type": "code",
        "colab": {
          "base_uri": "https://localhost:8080/",
          "height": 35
        },
        "outputId": "1735b628-6abc-4e54-a7df-7c1f83f9654d"
      },
      "source": [
        "# Question 1. In 2019 Armenia experienced the highest value of imports.\n",
        "highest_value_year = str(filtered_data.index[0])\n",
        "highest_value_year"
      ],
      "execution_count": 16,
      "outputs": [
        {
          "output_type": "execute_result",
          "data": {
            "application/vnd.google.colaboratory.intrinsic+json": {
              "type": "string"
            },
            "text/plain": [
              "'2019'"
            ]
          },
          "metadata": {
            "tags": []
          },
          "execution_count": 16
        }
      ]
    },
    {
      "cell_type": "code",
      "metadata": {
        "id": "eh8r5vJD_TsU",
        "colab_type": "code",
        "colab": {
          "base_uri": "https://localhost:8080/",
          "height": 35
        },
        "outputId": "9fda63ff-7162-42d0-a57d-8f000e7a42ff"
      },
      "source": [
        "# Question 2. Germany is the 3rd largest import partner. \n",
        "largest_import_partner = str(filtered_country.index[2])\n",
        "largest_import_partner"
      ],
      "execution_count": 18,
      "outputs": [
        {
          "output_type": "execute_result",
          "data": {
            "application/vnd.google.colaboratory.intrinsic+json": {
              "type": "string"
            },
            "text/plain": [
              "'Germany'"
            ]
          },
          "metadata": {
            "tags": []
          },
          "execution_count": 18
        }
      ]
    },
    {
      "cell_type": "code",
      "metadata": {
        "id": "r_mNLNne_nVy",
        "colab_type": "code",
        "colab": {
          "base_uri": "https://localhost:8080/",
          "height": 297
        },
        "outputId": "5694b625-e085-43b2-c1a2-17217cb2e08b"
      },
      "source": [
        "# Question 3. From the plot you can see the tendency of imports from Georgia. \n",
        "georgia_tendency = dbnomics_data.loc[dbnomics_data['Counterpart Reference Area'] == \"Georgia\"]\n",
        "georgia_tendency.plot(x='original_period', y='original_value')"
      ],
      "execution_count": 19,
      "outputs": [
        {
          "output_type": "execute_result",
          "data": {
            "text/plain": [
              "<matplotlib.axes._subplots.AxesSubplot at 0x7efededb2cf8>"
            ]
          },
          "metadata": {
            "tags": []
          },
          "execution_count": 19
        },
        {
          "output_type": "display_data",
          "data": {
            "image/png": "[encoded data removed]",
            "text/plain": [
              "<Figure size 432x288 with 1 Axes>"
            ]
          },
          "metadata": {
            "tags": [],
            "needs_background": "light"
          }
        }
      ]
    }
  ]
}
