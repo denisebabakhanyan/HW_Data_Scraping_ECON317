{
  "nbformat": 4,
  "nbformat_minor": 0,
  "metadata": {
    "colab": {
      "name": "HW4_5_Problem2.ipynb",
      "provenance": [],
      "collapsed_sections": []
    },
    "kernelspec": {
      "name": "python3",
      "display_name": "Python 3"
    }
  },
  "cells": [
    {
      "cell_type": "code",
      "metadata": {
        "id": "l5OhWtJBsRWZ",
        "colab_type": "code",
        "colab": {}
      },
      "source": [
        "#!pip install quandl"
      ],
      "execution_count": null,
      "outputs": []
    },
    {
      "cell_type": "code",
      "metadata": {
        "id": "0kCHPrYXsWuW",
        "colab_type": "code",
        "colab": {}
      },
      "source": [
        "# Importing all of the necessary packages. \n",
        "import quandl\n",
        "import pandas as pd\n",
        "import pandas \n",
        "import numpy as np"
      ],
      "execution_count": null,
      "outputs": []
    },
    {
      "cell_type": "code",
      "metadata": {
        "id": "GkzyuSuLse36",
        "colab_type": "code",
        "colab": {}
      },
      "source": [
        "# Personal API key\n",
        "quandl.ApiConfig.api_key = '8Dn46NmnZPxXgBmjNjQg'"
      ],
      "execution_count": null,
      "outputs": []
    },
    {
      "cell_type": "code",
      "metadata": {
        "id": "2jaNYoiCsgtv",
        "colab_type": "code",
        "colab": {}
      },
      "source": [
        "# Importing stock prices of TESLA, choosing only necessary columns: ticker, date, open, high, low, close.\n",
        "# Since the data should contain a 2-year information, I've chosen a period between 07/26/2017 and 07/26/2019.\n",
        "data = quandl.get_table('WIKI/PRICES', qopts = { 'columns': ['ticker', 'date', 'open', 'high', 'low', 'close'] }, ticker = ['TSLA'], date = { 'gte': '2017-07-26', 'lte': '2019-07-26' })"
      ],
      "execution_count": null,
      "outputs": []
    },
    {
      "cell_type": "code",
      "metadata": {
        "id": "HVoJm7_TsiaU",
        "colab_type": "code",
        "colab": {
          "base_uri": "https://localhost:8080/",
          "height": 450
        },
        "outputId": "1e1ad86d-52ab-4c45-ea8f-29be20c77040"
      },
      "source": [
        "# Creating a DataFrame for solving the questions.\n",
        "df = pd.DataFrame(data)\n",
        "df"
      ],
      "execution_count": null,
      "outputs": [
        {
          "output_type": "execute_result",
          "data": {
            "text/html": [
              "<div>\n",
              "<style scoped>\n",
              "    .dataframe tbody tr th:only-of-type {\n",
              "        vertical-align: middle;\n",
              "    }\n",
              "\n",
              "    .dataframe tbody tr th {\n",
              "        vertical-align: top;\n",
              "    }\n",
              "\n",
              "    .dataframe thead th {\n",
              "        text-align: right;\n",
              "    }\n",
              "</style>\n",
              "<table border=\"1\" class=\"dataframe\">\n",
              "  <thead>\n",
              "    <tr style=\"text-align: right;\">\n",
              "      <th></th>\n",
              "      <th>ticker</th>\n",
              "      <th>date</th>\n",
              "      <th>open</th>\n",
              "      <th>high</th>\n",
              "      <th>low</th>\n",
              "      <th>close</th>\n",
              "    </tr>\n",
              "    <tr>\n",
              "      <th>None</th>\n",
              "      <th></th>\n",
              "      <th></th>\n",
              "      <th></th>\n",
              "      <th></th>\n",
              "      <th></th>\n",
              "      <th></th>\n",
              "    </tr>\n",
              "  </thead>\n",
              "  <tbody>\n",
              "    <tr>\n",
              "      <th>0</th>\n",
              "      <td>TSLA</td>\n",
              "      <td>2018-03-27</td>\n",
              "      <td>304.00</td>\n",
              "      <td>304.27</td>\n",
              "      <td>277.18</td>\n",
              "      <td>279.18</td>\n",
              "    </tr>\n",
              "    <tr>\n",
              "      <th>1</th>\n",
              "      <td>TSLA</td>\n",
              "      <td>2018-03-26</td>\n",
              "      <td>307.34</td>\n",
              "      <td>307.59</td>\n",
              "      <td>291.36</td>\n",
              "      <td>304.18</td>\n",
              "    </tr>\n",
              "    <tr>\n",
              "      <th>2</th>\n",
              "      <td>TSLA</td>\n",
              "      <td>2018-03-23</td>\n",
              "      <td>311.25</td>\n",
              "      <td>311.61</td>\n",
              "      <td>300.45</td>\n",
              "      <td>301.54</td>\n",
              "    </tr>\n",
              "    <tr>\n",
              "      <th>3</th>\n",
              "      <td>TSLA</td>\n",
              "      <td>2018-03-22</td>\n",
              "      <td>313.89</td>\n",
              "      <td>318.82</td>\n",
              "      <td>308.18</td>\n",
              "      <td>309.10</td>\n",
              "    </tr>\n",
              "    <tr>\n",
              "      <th>4</th>\n",
              "      <td>TSLA</td>\n",
              "      <td>2018-03-21</td>\n",
              "      <td>310.25</td>\n",
              "      <td>322.44</td>\n",
              "      <td>310.19</td>\n",
              "      <td>316.53</td>\n",
              "    </tr>\n",
              "    <tr>\n",
              "      <th>...</th>\n",
              "      <td>...</td>\n",
              "      <td>...</td>\n",
              "      <td>...</td>\n",
              "      <td>...</td>\n",
              "      <td>...</td>\n",
              "      <td>...</td>\n",
              "    </tr>\n",
              "    <tr>\n",
              "      <th>163</th>\n",
              "      <td>TSLA</td>\n",
              "      <td>2017-08-01</td>\n",
              "      <td>323.00</td>\n",
              "      <td>324.45</td>\n",
              "      <td>316.13</td>\n",
              "      <td>319.57</td>\n",
              "    </tr>\n",
              "    <tr>\n",
              "      <th>164</th>\n",
              "      <td>TSLA</td>\n",
              "      <td>2017-07-31</td>\n",
              "      <td>335.50</td>\n",
              "      <td>341.49</td>\n",
              "      <td>321.04</td>\n",
              "      <td>323.47</td>\n",
              "    </tr>\n",
              "    <tr>\n",
              "      <th>165</th>\n",
              "      <td>TSLA</td>\n",
              "      <td>2017-07-28</td>\n",
              "      <td>336.89</td>\n",
              "      <td>339.60</td>\n",
              "      <td>332.51</td>\n",
              "      <td>335.07</td>\n",
              "    </tr>\n",
              "    <tr>\n",
              "      <th>166</th>\n",
              "      <td>TSLA</td>\n",
              "      <td>2017-07-27</td>\n",
              "      <td>346.00</td>\n",
              "      <td>347.50</td>\n",
              "      <td>326.29</td>\n",
              "      <td>334.46</td>\n",
              "    </tr>\n",
              "    <tr>\n",
              "      <th>167</th>\n",
              "      <td>TSLA</td>\n",
              "      <td>2017-07-26</td>\n",
              "      <td>340.36</td>\n",
              "      <td>345.50</td>\n",
              "      <td>338.12</td>\n",
              "      <td>343.85</td>\n",
              "    </tr>\n",
              "  </tbody>\n",
              "</table>\n",
              "<p>168 rows × 6 columns</p>\n",
              "</div>"
            ],
            "text/plain": [
              "     ticker       date    open    high     low   close\n",
              "None                                                  \n",
              "0      TSLA 2018-03-27  304.00  304.27  277.18  279.18\n",
              "1      TSLA 2018-03-26  307.34  307.59  291.36  304.18\n",
              "2      TSLA 2018-03-23  311.25  311.61  300.45  301.54\n",
              "3      TSLA 2018-03-22  313.89  318.82  308.18  309.10\n",
              "4      TSLA 2018-03-21  310.25  322.44  310.19  316.53\n",
              "...     ...        ...     ...     ...     ...     ...\n",
              "163    TSLA 2017-08-01  323.00  324.45  316.13  319.57\n",
              "164    TSLA 2017-07-31  335.50  341.49  321.04  323.47\n",
              "165    TSLA 2017-07-28  336.89  339.60  332.51  335.07\n",
              "166    TSLA 2017-07-27  346.00  347.50  326.29  334.46\n",
              "167    TSLA 2017-07-26  340.36  345.50  338.12  343.85\n",
              "\n",
              "[168 rows x 6 columns]"
            ]
          },
          "metadata": {
            "tags": []
          },
          "execution_count": 5
        }
      ]
    },
    {
      "cell_type": "code",
      "metadata": {
        "id": "PimBSz5dslO1",
        "colab_type": "code",
        "colab": {
          "base_uri": "https://localhost:8080/",
          "height": 34
        },
        "outputId": "a627f2fb-3a49-4bb5-9040-6eb1ed655fa1"
      },
      "source": [
        "# Question 1. Calculating average daily percentage change of the opening price \n",
        "# with a help of pct_change() and mean() functions.\n",
        "avg_pct_change = df[\"open\"].pct_change().mean()\n",
        "avg_pct_change"
      ],
      "execution_count": null,
      "outputs": [
        {
          "output_type": "execute_result",
          "data": {
            "text/plain": [
              "0.0009376464521388761"
            ]
          },
          "metadata": {
            "tags": []
          },
          "execution_count": 6
        }
      ]
    },
    {
      "cell_type": "code",
      "metadata": {
        "id": "jQffePftsq8O",
        "colab_type": "code",
        "colab": {
          "base_uri": "https://localhost:8080/",
          "height": 34
        },
        "outputId": "e0560bd8-1bd5-47e7-d371-d4004404dc61"
      },
      "source": [
        "# Question 2. Calcuating median daily percentage change of range between highest and \n",
        "# lowest daily prices at first by finding the difference between high and low, and then \n",
        "# by using pct_change() and median() functions. \n",
        "med_pct_change = ((df[\"high\"] - df[\"low\"])/df[\"high\"]).pct_change().median()\n",
        "med_pct_change"
      ],
      "execution_count": null,
      "outputs": [
        {
          "output_type": "execute_result",
          "data": {
            "text/plain": [
              "0.03234235349163894"
            ]
          },
          "metadata": {
            "tags": []
          },
          "execution_count": 7
        }
      ]
    }
  ]
}