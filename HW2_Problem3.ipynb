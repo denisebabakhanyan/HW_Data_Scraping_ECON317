{
  "nbformat": 4,
  "nbformat_minor": 0,
  "metadata": {
    "colab": {
      "name": "HW2_Problem3.ipynb",
      "provenance": []
    },
    "kernelspec": {
      "name": "python3",
      "display_name": "Python 3"
    }
  },
  "cells": [
    {
      "cell_type": "code",
      "metadata": {
        "id": "pIeduahqC67V",
        "colab_type": "code",
        "colab": {}
      },
      "source": [
        "import numpy as np\n",
        "import pandas as pd\n",
        "import time \n",
        "import requests\n",
        "from scrapy.http import TextResponse "
      ],
      "execution_count": 4,
      "outputs": []
    },
    {
      "cell_type": "code",
      "metadata": {
        "id": "yw5ChfOgDFhN",
        "colab_type": "code",
        "colab": {}
      },
      "source": [
        "url=\"http://books.toscrape.com/\"\n",
        "page = requests.get(url)\n",
        "response = TextResponse(url=page.url,body=page.text,encoding=\"utf-8\")"
      ],
      "execution_count": 5,
      "outputs": []
    },
    {
      "cell_type": "code",
      "metadata": {
        "id": "UMrAQQ3RIfq0",
        "colab_type": "code",
        "colab": {}
      },
      "source": [
        "base_url = \"http://books.toscrape.com/\""
      ],
      "execution_count": 8,
      "outputs": []
    },
    {
      "cell_type": "code",
      "metadata": {
        "id": "Y6TeGKyzRpKE",
        "colab_type": "code",
        "colab": {}
      },
      "source": [
        "# Creating a function in order to scrape all the info. \n",
        "# Cleaning data a bit: eliminating Â£ sign, as well as \\n. \n",
        "def books_scraper(url):\n",
        "  page = requests.get(url)\n",
        "  response = TextResponse(url=page.url,body=page.text,encoding=\"utf-8\")\n",
        "  title = response.css(\"h3 > a::attr(title)\").extract()\n",
        "  rating =response.css(\"p[class^='star-rating']::attr(class)\").extract()\n",
        "  price = response.css(\"p.price_color::text\").extract()\n",
        "  price = [i.replace(\"Â£\", \" \") for i in price]\n",
        "  book_page_url = response.css(\"h3> a::attr(href)\").extract()\n",
        "  book_page = [base_url+i for i in book_page_url]\n",
        "  book_picture_url = response.css(\"img::attr(src)\").extract()\n",
        "  book_picture = [base_url+i for i in book_picture_url]\n",
        "  in_stock_availability = response.css(\"div.product_price > p.instock.availability::text\").extract()\n",
        "  in_stock_availability = [i.replace(\"\\n\", \" \") for i in in_stock_availability]\n",
        "  return title, rating, price, book_page, book_picture, in_stock_availability"
      ],
      "execution_count": 9,
      "outputs": []
    },
    {
      "cell_type": "code",
      "metadata": {
        "id": "PqQC0hYxWMVv",
        "colab_type": "code",
        "colab": {}
      },
      "source": [
        "books_scraper(url=\"http://books.toscrape.com/\")"
      ],
      "execution_count": null,
      "outputs": []
    },
    {
      "cell_type": "code",
      "metadata": {
        "id": "1PYnW-ET0opQ",
        "colab_type": "code",
        "colab": {}
      },
      "source": [
        "# Identifying a range in order to scrape books from all pages.\n",
        "# The overall page count is 50.\n",
        "all_books = []\n",
        "for i in range(1,51):\n",
        "  current_page = books_scraper(url=f\"http://books.toscrape.com/catalogue/page-{i}.html\")\n",
        "  if len(current_page[0])==0:\n",
        "    break\n",
        "  else:\n",
        "    all_books.append(current_page)"
      ],
      "execution_count": 11,
      "outputs": []
    },
    {
      "cell_type": "code",
      "metadata": {
        "id": "IrEcxgXnDYXM",
        "colab_type": "code",
        "colab": {
          "base_uri": "https://localhost:8080/",
          "height": 34
        },
        "outputId": "55e84b94-484c-4542-d64b-8884a90ffcd7"
      },
      "source": [
        "len(all_books) #50 pages, a.k.a 1,000 books"
      ],
      "execution_count": 12,
      "outputs": [
        {
          "output_type": "execute_result",
          "data": {
            "text/plain": [
              "50"
            ]
          },
          "metadata": {
            "tags": []
          },
          "execution_count": 12
        }
      ]
    },
    {
      "cell_type": "code",
      "metadata": {
        "id": "nLQYRcGpF4oU",
        "colab_type": "code",
        "colab": {}
      },
      "source": [
        ""
      ],
      "execution_count": null,
      "outputs": []
    }
  ]
}