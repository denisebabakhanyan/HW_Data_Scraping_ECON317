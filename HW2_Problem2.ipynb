{
  "nbformat": 4,
  "nbformat_minor": 0,
  "metadata": {
    "colab": {
      "name": "HW2_Problem2.ipynb",
      "provenance": []
    },
    "kernelspec": {
      "name": "python3",
      "display_name": "Python 3"
    }
  },
  "cells": [
    {
      "cell_type": "code",
      "metadata": {
        "id": "4SoTFqFBb06L",
        "colab_type": "code",
        "colab": {}
      },
      "source": [
        "import numpy as np\n",
        "import pandas as pd\n",
        "import time \n",
        "import requests\n",
        "from scrapy.http import TextResponse \n"
      ],
      "execution_count": null,
      "outputs": []
    },
    {
      "cell_type": "code",
      "metadata": {
        "id": "SYSpfWcOcCZ0",
        "colab_type": "code",
        "colab": {}
      },
      "source": [
        "url = \"https://www.imdb.com/chart/moviemeter/\"\n",
        "page = requests.get(url)\n",
        "response = TextResponse(url=page.url,body=page.text,encoding=\"utf-8\")"
      ],
      "execution_count": null,
      "outputs": []
    },
    {
      "cell_type": "code",
      "metadata": {
        "id": "6LSDi7_X4DvS",
        "colab_type": "code",
        "colab": {}
      },
      "source": [
        "base_url = \"https://www.imdb.com/\""
      ],
      "execution_count": null,
      "outputs": []
    },
    {
      "cell_type": "code",
      "metadata": {
        "id": "4JLUXpY3cXao",
        "colab_type": "code",
        "colab": {}
      },
      "source": [
        "# Scraping titles, hyperlinks of the movies, years, ratings and rankings.\n",
        "title = response.css(\"td.titleColumn > a::text\").extract()\n",
        "rel_hyperlinks = response.css(\"td.titleColumn > a::attr(href)\").extract()\n",
        "hyperlink = [base_url+i for i in rel_hyperlinks]\n",
        "year = response.css(\"td.titleColumn > span.secondaryInfo::text\").extract()\n",
        "rating_td = response.css(\"td[class='ratingColumn imdbRating']\")\n",
        "[i.css('strong::text').extract_first() for i in rating_td]\n",
        "ranking = response.css(\"td.titleColumn > div.velocity/*span.secondaryInfo*/\").extract()"
      ],
      "execution_count": null,
      "outputs": []
    },
    {
      "cell_type": "code",
      "metadata": {
        "id": "jE7d3vl01Fwx",
        "colab_type": "code",
        "colab": {}
      },
      "source": [
        "# Creating a DataFrame.\n",
        "df = pd.DataFrame({\"Title\": title,\"Hyperlink\": hyperlink,\"Rating\": rating_td, \"Year\": year, \"Ranking\":ranking})"
      ],
      "execution_count": null,
      "outputs": []
    },
    {
      "cell_type": "code",
      "metadata": {
        "id": "FjzJDkGC777W",
        "colab_type": "code",
        "colab": {
          "base_uri": "https://localhost:8080/",
          "height": 255
        },
        "outputId": "0ec76c69-8426-46a5-e3c8-80070573fade"
      },
      "source": [
        "print(df)"
      ],
      "execution_count": null,
      "outputs": [
        {
          "output_type": "stream",
          "text": [
            "                        Title  ...                                            Ranking\n",
            "0                    365 Days  ...       <div class=\"velocity\">1\\n(no change)\\n</div>\n",
            "1                 Da 5 Bloods  ...  <div class=\"velocity\">2\\n<span class=\"secondar...\n",
            "2                Artemis Fowl  ...  <div class=\"velocity\">3\\n<span class=\"secondar...\n",
            "3   The King of Staten Island  ...  <div class=\"velocity\">4\\n<span class=\"secondar...\n",
            "4                  Knives Out  ...  <div class=\"velocity\">5\\n<span class=\"secondar...\n",
            "..                        ...  ...                                                ...\n",
            "95            The Rising Hawk  ...  <div class=\"velocity\">96\\n<span class=\"seconda...\n",
            "96                  Bloodshot  ...  <div class=\"velocity\">97\\n<span class=\"seconda...\n",
            "97                   The Room  ...  <div class=\"velocity\">98\\n<span class=\"seconda...\n",
            "98                      Emma.  ...  <div class=\"velocity\">99\\n<span class=\"seconda...\n",
            "99                     Onward  ...  <div class=\"velocity\">100\\n<span class=\"second...\n",
            "\n",
            "[100 rows x 5 columns]\n"
          ],
          "name": "stdout"
        }
      ]
    },
    {
      "cell_type": "code",
      "metadata": {
        "id": "ATc_7bdO7sHX",
        "colab_type": "code",
        "colab": {}
      },
      "source": [
        "# Cleaning our DataFrame and eliminating breakets. \n",
        "df[\"Year\"] = df[\"Year\"].str.strip(\"()\").astype(int)"
      ],
      "execution_count": null,
      "outputs": []
    },
    {
      "cell_type": "code",
      "metadata": {
        "id": "IAQ--RYc8VIK",
        "colab_type": "code",
        "colab": {
          "base_uri": "https://localhost:8080/",
          "height": 221
        },
        "outputId": "776a34bf-6f25-4549-c29d-bef9394e8415"
      },
      "source": [
        "df[\"Year\"]"
      ],
      "execution_count": null,
      "outputs": [
        {
          "output_type": "execute_result",
          "data": {
            "text/plain": [
              "0     2020\n",
              "1     2020\n",
              "2     2020\n",
              "3     2020\n",
              "4     2019\n",
              "      ... \n",
              "95    2019\n",
              "96    2020\n",
              "97    2003\n",
              "98    2020\n",
              "99    2020\n",
              "Name: Year, Length: 100, dtype: int64"
            ]
          },
          "metadata": {
            "tags": []
          },
          "execution_count": 43
        }
      ]
    },
    {
      "cell_type": "code",
      "metadata": {
        "id": "2hUalDUO_uwV",
        "colab_type": "code",
        "colab": {}
      },
      "source": [
        ""
      ],
      "execution_count": null,
      "outputs": []
    }
  ]
}